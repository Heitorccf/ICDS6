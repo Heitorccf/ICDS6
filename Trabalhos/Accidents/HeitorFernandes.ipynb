{
 "cells": [
  {
   "cell_type": "markdown",
   "metadata": {},
   "source": [
    "## Projeto de Visualização de Dados\n",
    "\n",
    "### Nome: Heitor Câmara Costa Fernandes\n",
    "### Código:VP3015386\n",
    "\n",
    "Este projeto utiliza bibliotecas populares de Python para visualização e análise de dados. O objetivo é explorar e visualizar conjuntos de dados utilizando `matplotlib`, `seaborn`, `numpy`, e `pandas`.\n",
    "\n",
    "### Bibliotecas Utilizadas\n",
    "\n",
    "- **matplotlib**: Biblioteca para criação de gráficos estáticos, animados e interativos em Python.\n",
    "- **numpy**: Biblioteca para computação numérica em Python, especialmente útil para manipulação de arrays.\n",
    "- **pandas**: Biblioteca para manipulação e análise de dados, oferecendo estruturas de dados e ferramentas de análise.\n",
    "- **seaborn**: Biblioteca baseada em `matplotlib`, que fornece uma interface de alto nível para desenhar gráficos estatísticos.\n",
    "- **sklearn**: Biblioteca para aprendizado de máquina que inclui datasets prontos para uso."
   ]
  },
  {
   "cell_type": "code",
   "execution_count": 3,
   "metadata": {},
   "outputs": [],
   "source": [
    "import matplotlib.pyplot as plt\n",
    "import numpy as np\n",
    "import pandas as pd\n",
    "import seaborn as sns\n",
    "from sklearn import datasets"
   ]
  }
 ],
 "metadata": {
  "kernelspec": {
   "display_name": "Python 3",
   "language": "python",
   "name": "python3"
  },
  "language_info": {
   "codemirror_mode": {
    "name": "ipython",
    "version": 3
   },
   "file_extension": ".py",
   "mimetype": "text/x-python",
   "name": "python",
   "nbconvert_exporter": "python",
   "pygments_lexer": "ipython3",
   "version": "3.10.12"
  }
 },
 "nbformat": 4,
 "nbformat_minor": 2
}
