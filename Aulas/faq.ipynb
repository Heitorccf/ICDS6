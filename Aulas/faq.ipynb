{
  "nbformat": 4,
  "nbformat_minor": 0,
  "metadata": {
    "colab": {
      "provenance": []
    },
    "kernelspec": {
      "name": "python3",
      "display_name": "Python 3"
    },
    "language_info": {
      "name": "python"
    }
  },
  "cells": [
    {
      "cell_type": "markdown",
      "source": [
        "# Implementação de Perguntas e Respostas com Hugging Face\n",
        "Nesta aula, vamos criar um sistema de Perguntas e Respostas usando o modelo pré-treinado `roberta-base-squad2` da Hugging Face. O objetivo é construir uma aplicação que possa responder a perguntas com base em contextos específicos, utilizando processamento de linguagem natural (NLP)."
      ],
      "metadata": {
        "id": "CnAiYZuTvsp2"
      }
    },
    {
      "cell_type": "code",
      "source": [
        "import warnings\n",
        "warnings.filterwarnings('ignore')"
      ],
      "metadata": {
        "id": "z0A8xE9X7TcN"
      },
      "execution_count": 19,
      "outputs": []
    },
    {
      "cell_type": "code",
      "execution_count": 20,
      "metadata": {
        "id": "75_bX_b2vN5j"
      },
      "outputs": [],
      "source": [
        "from transformers import AutoModelForQuestionAnswering, AutoTokenizer, pipeline\n",
        "\n",
        "# Definindo o nome do modelo pré-treinado\n",
        "model_name = \"deepset/roberta-base-squad2\"\n",
        "\n",
        "# Criando o pipeline de Perguntas e Respostas\n",
        "nlp = pipeline('question-answering', model=model_name, tokenizer=model_name)"
      ]
    },
    {
      "cell_type": "markdown",
      "source": [
        "### Explicação:\n",
        "- O `pipeline` permite realizar diferentes tarefas de NLP (como classificação de texto, tradução, ou neste caso, perguntas e respostas).\n",
        "- O `model_name` é o modelo usado, neste caso, o `roberta-base-squad2`, que é eficaz para Perguntas e Respostas.\n",
        "- O `tokenizer` é responsável por dividir o texto em tokens que o modelo entende."
      ],
      "metadata": {
        "id": "6nBJzac3wKE4"
      }
    },
    {
      "cell_type": "code",
      "source": [
        "QA_input = {\n",
        "  'question': 'Why is model conversion important?',\n",
        "  'context': 'The option to convert models between FARM and transformers gives freedom to the user and lets people easily switch between frameworks.'\n",
        "}\n",
        "\n",
        "res = nlp(QA_input)\n",
        "res"
      ],
      "metadata": {
        "colab": {
          "base_uri": "https://localhost:8080/"
        },
        "id": "bvGIxeV9vxLN",
        "outputId": "d2346e18-2659-4381-a5f7-579433442f4f"
      },
      "execution_count": 21,
      "outputs": [
        {
          "output_type": "execute_result",
          "data": {
            "text/plain": [
              "{'score': 0.21888455748558044,\n",
              " 'start': 59,\n",
              " 'end': 133,\n",
              " 'answer': 'gives freedom to the user and lets people easily switch between frameworks'}"
            ]
          },
          "metadata": {},
          "execution_count": 21
        }
      ]
    },
    {
      "cell_type": "markdown",
      "source": [
        "### Explicação:\n",
        "- A pergunta \"Why is model conversion important?\" é respondida com base no contexto.\n",
        "- A variável `res` conterá a resposta, bem como o índice de confiança (score), e os índices `start` e `end`, que indicam a posição da resposta no contexto."
      ],
      "metadata": {
        "id": "EfgmpDjYwbqt"
      }
    },
    {
      "cell_type": "code",
      "source": [
        "# Carregando o modelo e tokenizer manualmente\n",
        "model = AutoModelForQuestionAnswering.from_pretrained(model_name)\n",
        "tokenizer = AutoTokenizer.from_pretrained(model_name)"
      ],
      "metadata": {
        "id": "ek_FExkpwNg5"
      },
      "execution_count": 22,
      "outputs": []
    },
    {
      "cell_type": "code",
      "source": [
        "from transformers import pipeline\n",
        "\n",
        "# Criando a pipeline\n",
        "QA_modelo = pipeline('question-answering', model='deepset/roberta-base-squad2')\n",
        "\n",
        "# Função para obter respostas com o modelo\n",
        "def obter_resposta(pergunta, contexto):\n",
        "    return QA_modelo(question=pergunta, context=contexto)"
      ],
      "metadata": {
        "id": "anibRLmywevi"
      },
      "execution_count": 23,
      "outputs": []
    },
    {
      "cell_type": "markdown",
      "source": [
        "### Explicação:\n",
        "- A função `obter_resposta()` recebe a `pergunta` e o `contexto`, e usa o modelo `QA_modelo` para fornecer uma resposta."
      ],
      "metadata": {
        "id": "Kj3Hi3B5wt2n"
      }
    },
    {
      "cell_type": "code",
      "source": [
        "pergunta = 'What are the payment options available?'\n",
        "contexto = 'In our e-commerce, you can make payments using credit card, debit card, Apple Pay, or through bank transfers.'\n",
        "\n",
        "resposta = obter_resposta(pergunta, contexto)\n",
        "resposta"
      ],
      "metadata": {
        "colab": {
          "base_uri": "https://localhost:8080/"
        },
        "id": "PgRRQlBhwpgH",
        "outputId": "688e1f02-6bf6-4cfc-e316-72934133a341"
      },
      "execution_count": 24,
      "outputs": [
        {
          "output_type": "execute_result",
          "data": {
            "text/plain": [
              "{'score': 0.817491352558136,\n",
              " 'start': 47,\n",
              " 'end': 108,\n",
              " 'answer': 'credit card, debit card, Apple Pay, or through bank transfers'}"
            ]
          },
          "metadata": {},
          "execution_count": 24
        }
      ]
    },
    {
      "cell_type": "code",
      "source": [
        "contextos = {\n",
        "    \"How do I create an account?\": \"You can create an account by clicking on the 'Sign Up' button on our homepage...\",\n",
        "    \"Which payment methods do you accept?\": \"We accept a wide range of payment methods including Visa, MasterCard...\",\n",
        "    \"How can I track my order?\": \"Once your order has shipped, you will receive an email with a tracking number...\",\n",
        "    \"Do you offer international shipping?\": \"Yes, we offer international shipping to most countries...\",\n",
        "    \"How long does delivery take?\": \"For standard shipping, deliveries typically take between 3 to 5 business days...\",\n",
        "    \"What is your return policy?\": \"Our return policy allows you to return products within 30 days...\",\n",
        "    \"Can I change or cancel my order after it's been placed?\": \"You can change or cancel your order within 24 hours...\",\n",
        "    \"What should I do if I receive a damaged item?\": \"If you receive a damaged item, contact customer service...\",\n",
        "    \"How do I reset my password?\": \"If you've forgotten your password, go to the login page and click on 'Forgot Password'...\"\n",
        "}"
      ],
      "metadata": {
        "id": "bQxUEsMhwyrF"
      },
      "execution_count": 25,
      "outputs": []
    },
    {
      "cell_type": "code",
      "source": [
        "def respondendo_faq(pergunta):\n",
        "    contexto = contextos[pergunta]\n",
        "    resultado = QA_modelo(question=pergunta, context=contexto)\n",
        "    return resultado['answer']"
      ],
      "metadata": {
        "id": "SH22oaG-w3-s"
      },
      "execution_count": 26,
      "outputs": []
    },
    {
      "cell_type": "code",
      "source": [
        "respondendo_faq('How do I create an account?')\n",
        "respondendo_faq('Which payment methods do you accept?')\n",
        "respondendo_faq('Do you offer international shipping?')"
      ],
      "metadata": {
        "colab": {
          "base_uri": "https://localhost:8080/",
          "height": 55
        },
        "id": "YwMkQkpew-N2",
        "outputId": "9e33901e-a7dd-4544-e97d-7987c405db6e"
      },
      "execution_count": 27,
      "outputs": [
        {
          "output_type": "execute_result",
          "data": {
            "text/plain": [
              "'we offer international shipping to most countries'"
            ],
            "application/vnd.google.colaboratory.intrinsic+json": {
              "type": "string"
            }
          },
          "metadata": {},
          "execution_count": 27
        }
      ]
    },
    {
      "cell_type": "code",
      "source": [
        "from transformers import pipeline\n",
        "import gradio as gr\n",
        "\n",
        "# Criando a pipeline de Perguntas e Respostas\n",
        "QA_modelo = pipeline('question-answering', model='deepset/roberta-base-squad2')\n",
        "\n",
        "# Definindo os contextos para perguntas frequentes\n",
        "contextos = {\n",
        "    \"How do I create an account?\": \"You can create an account by clicking on the 'Sign Up' button on our homepage...\",\n",
        "    \"Which payment methods do you accept?\": \"We accept a wide range of payment methods including Visa, MasterCard...\",\n",
        "    \"How can I track my order?\": \"Once your order has shipped, you will receive an email with a tracking number...\",\n",
        "    \"Do you offer international shipping?\": \"Yes, we offer international shipping to most countries...\",\n",
        "    \"How long does delivery take?\": \"For standard shipping, deliveries typically take between 3 to 5 business days...\",\n",
        "    \"What is your return policy?\": \"Our return policy allows you to return products within 30 days...\",\n",
        "    \"Can I change or cancel my order after it's been placed?\": \"You can change or cancel your order within 24 hours...\",\n",
        "    \"What should I do if I receive a damaged item?\": \"If you receive a damaged item, contact customer service...\",\n",
        "    \"How do I reset my password?\": \"If you've forgotten your password, go to the login page and click on 'Forgot Password'...\"\n",
        "}"
      ],
      "metadata": {
        "id": "fovSG6bVx-Hm"
      },
      "execution_count": 28,
      "outputs": []
    },
    {
      "cell_type": "code",
      "source": [
        "# Função para responder perguntas do FAQ\n",
        "def respondendo_faq(pergunta):\n",
        "    contexto = contextos[pergunta]\n",
        "    resultado = QA_modelo(question=pergunta, context=contexto)\n",
        "    return resultado['answer']"
      ],
      "metadata": {
        "id": "o6GqXKAlyKOb"
      },
      "execution_count": 29,
      "outputs": []
    },
    {
      "cell_type": "code",
      "source": [
        "# Criando a interface Gradio\n",
        "app = gr.Interface(fn=respondendo_faq,\n",
        "                   inputs=gr.Dropdown(choices=list(contextos.keys()), label=\"Select your question\"),\n",
        "                   outputs=\"text\")\n",
        "\n",
        "# Lançando a interface\n",
        "app.launch()"
      ],
      "metadata": {
        "colab": {
          "base_uri": "https://localhost:8080/",
          "height": 645
        },
        "id": "MdAN_OrLyTFA",
        "outputId": "8e309020-64fb-4152-99ab-5f6414caf5f8"
      },
      "execution_count": 30,
      "outputs": [
        {
          "output_type": "stream",
          "name": "stdout",
          "text": [
            "Running Gradio in a Colab notebook requires sharing enabled. Automatically setting `share=True` (you can turn this off by setting `share=False` in `launch()` explicitly).\n",
            "\n",
            "Colab notebook detected. To show errors in colab notebook, set debug=True in launch()\n",
            "* Running on public URL: https://3bf14acacdebbf48e9.gradio.live\n",
            "\n",
            "This share link expires in 72 hours. For free permanent hosting and GPU upgrades, run `gradio deploy` from the terminal in the working directory to deploy to Hugging Face Spaces (https://huggingface.co/spaces)\n"
          ]
        },
        {
          "output_type": "display_data",
          "data": {
            "text/plain": [
              "<IPython.core.display.HTML object>"
            ],
            "text/html": [
              "<div><iframe src=\"https://3bf14acacdebbf48e9.gradio.live\" width=\"100%\" height=\"500\" allow=\"autoplay; camera; microphone; clipboard-read; clipboard-write;\" frameborder=\"0\" allowfullscreen></iframe></div>"
            ]
          },
          "metadata": {}
        },
        {
          "output_type": "execute_result",
          "data": {
            "text/plain": []
          },
          "metadata": {},
          "execution_count": 30
        }
      ]
    },
    {
      "cell_type": "markdown",
      "source": [
        "### Explicação:\n",
        "- A interface usa `Gradio` para criar uma UI simples onde o usuário pode escolher uma pergunta e receber uma resposta.\n",
        "- O parâmetro `choices` usa as chaves do dicionário `contextos` para popular o menu suspenso."
      ],
      "metadata": {
        "id": "Vh25JXvDxZEj"
      }
    }
  ]
}